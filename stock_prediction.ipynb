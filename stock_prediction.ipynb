{
 "cells": [
  {
   "cell_type": "code",
   "execution_count": 1,
   "metadata": {},
   "outputs": [
    {
     "name": "stdout",
     "output_type": "stream",
     "text": [
      "Requirement already satisfied: numpy in c:\\users\\user\\anaconda3\\lib\\site-packages (1.26.4)\n",
      "Note: you may need to restart the kernel to use updated packages.\n"
     ]
    }
   ],
   "source": [
    "pip install numpy"
   ]
  },
  {
   "cell_type": "code",
   "execution_count": 2,
   "metadata": {},
   "outputs": [
    {
     "name": "stdout",
     "output_type": "stream",
     "text": [
      "Requirement already satisfied: pandas in c:\\users\\user\\anaconda3\\lib\\site-packages (2.2.2)\n",
      "Requirement already satisfied: numpy>=1.26.0 in c:\\users\\user\\anaconda3\\lib\\site-packages (from pandas) (1.26.4)\n",
      "Requirement already satisfied: python-dateutil>=2.8.2 in c:\\users\\user\\anaconda3\\lib\\site-packages (from pandas) (2.9.0.post0)\n",
      "Requirement already satisfied: pytz>=2020.1 in c:\\users\\user\\anaconda3\\lib\\site-packages (from pandas) (2024.1)\n",
      "Requirement already satisfied: tzdata>=2022.7 in c:\\users\\user\\anaconda3\\lib\\site-packages (from pandas) (2023.3)\n",
      "Requirement already satisfied: six>=1.5 in c:\\users\\user\\anaconda3\\lib\\site-packages (from python-dateutil>=2.8.2->pandas) (1.16.0)\n",
      "Note: you may need to restart the kernel to use updated packages.\n"
     ]
    }
   ],
   "source": [
    "pip install pandas"
   ]
  },
  {
   "cell_type": "code",
   "execution_count": 3,
   "metadata": {},
   "outputs": [
    {
     "name": "stdout",
     "output_type": "stream",
     "text": [
      "Requirement already satisfied: matplotlib in c:\\users\\user\\anaconda3\\lib\\site-packages (3.9.2)\n",
      "Requirement already satisfied: contourpy>=1.0.1 in c:\\users\\user\\anaconda3\\lib\\site-packages (from matplotlib) (1.2.0)\n",
      "Requirement already satisfied: cycler>=0.10 in c:\\users\\user\\anaconda3\\lib\\site-packages (from matplotlib) (0.11.0)\n",
      "Requirement already satisfied: fonttools>=4.22.0 in c:\\users\\user\\anaconda3\\lib\\site-packages (from matplotlib) (4.51.0)\n",
      "Requirement already satisfied: kiwisolver>=1.3.1 in c:\\users\\user\\anaconda3\\lib\\site-packages (from matplotlib) (1.4.4)\n",
      "Requirement already satisfied: numpy>=1.23 in c:\\users\\user\\anaconda3\\lib\\site-packages (from matplotlib) (1.26.4)\n",
      "Requirement already satisfied: packaging>=20.0 in c:\\users\\user\\anaconda3\\lib\\site-packages (from matplotlib) (24.1)\n",
      "Requirement already satisfied: pillow>=8 in c:\\users\\user\\anaconda3\\lib\\site-packages (from matplotlib) (10.4.0)\n",
      "Requirement already satisfied: pyparsing>=2.3.1 in c:\\users\\user\\anaconda3\\lib\\site-packages (from matplotlib) (3.1.2)\n",
      "Requirement already satisfied: python-dateutil>=2.7 in c:\\users\\user\\anaconda3\\lib\\site-packages (from matplotlib) (2.9.0.post0)\n",
      "Requirement already satisfied: six>=1.5 in c:\\users\\user\\anaconda3\\lib\\site-packages (from python-dateutil>=2.7->matplotlib) (1.16.0)\n",
      "Note: you may need to restart the kernel to use updated packages.\n"
     ]
    }
   ],
   "source": [
    "pip install matplotlib"
   ]
  },
  {
   "cell_type": "code",
   "execution_count": 5,
   "metadata": {},
   "outputs": [
    {
     "name": "stdout",
     "output_type": "stream",
     "text": [
      "Requirement already satisfied: seaborn in c:\\users\\user\\anaconda3\\lib\\site-packages (0.13.2)\n",
      "Requirement already satisfied: numpy!=1.24.0,>=1.20 in c:\\users\\user\\anaconda3\\lib\\site-packages (from seaborn) (1.26.4)\n",
      "Requirement already satisfied: pandas>=1.2 in c:\\users\\user\\anaconda3\\lib\\site-packages (from seaborn) (2.2.2)\n",
      "Requirement already satisfied: matplotlib!=3.6.1,>=3.4 in c:\\users\\user\\anaconda3\\lib\\site-packages (from seaborn) (3.9.2)\n",
      "Requirement already satisfied: contourpy>=1.0.1 in c:\\users\\user\\anaconda3\\lib\\site-packages (from matplotlib!=3.6.1,>=3.4->seaborn) (1.2.0)\n",
      "Requirement already satisfied: cycler>=0.10 in c:\\users\\user\\anaconda3\\lib\\site-packages (from matplotlib!=3.6.1,>=3.4->seaborn) (0.11.0)\n",
      "Requirement already satisfied: fonttools>=4.22.0 in c:\\users\\user\\anaconda3\\lib\\site-packages (from matplotlib!=3.6.1,>=3.4->seaborn) (4.51.0)\n",
      "Requirement already satisfied: kiwisolver>=1.3.1 in c:\\users\\user\\anaconda3\\lib\\site-packages (from matplotlib!=3.6.1,>=3.4->seaborn) (1.4.4)\n",
      "Requirement already satisfied: packaging>=20.0 in c:\\users\\user\\anaconda3\\lib\\site-packages (from matplotlib!=3.6.1,>=3.4->seaborn) (24.1)\n",
      "Requirement already satisfied: pillow>=8 in c:\\users\\user\\anaconda3\\lib\\site-packages (from matplotlib!=3.6.1,>=3.4->seaborn) (10.4.0)\n",
      "Requirement already satisfied: pyparsing>=2.3.1 in c:\\users\\user\\anaconda3\\lib\\site-packages (from matplotlib!=3.6.1,>=3.4->seaborn) (3.1.2)\n",
      "Requirement already satisfied: python-dateutil>=2.7 in c:\\users\\user\\anaconda3\\lib\\site-packages (from matplotlib!=3.6.1,>=3.4->seaborn) (2.9.0.post0)\n",
      "Requirement already satisfied: pytz>=2020.1 in c:\\users\\user\\anaconda3\\lib\\site-packages (from pandas>=1.2->seaborn) (2024.1)\n",
      "Requirement already satisfied: tzdata>=2022.7 in c:\\users\\user\\anaconda3\\lib\\site-packages (from pandas>=1.2->seaborn) (2023.3)\n",
      "Requirement already satisfied: six>=1.5 in c:\\users\\user\\anaconda3\\lib\\site-packages (from python-dateutil>=2.7->matplotlib!=3.6.1,>=3.4->seaborn) (1.16.0)\n",
      "Note: you may need to restart the kernel to use updated packages.\n"
     ]
    }
   ],
   "source": [
    "pip install seaborn "
   ]
  },
  {
   "cell_type": "code",
   "execution_count": 6,
   "metadata": {},
   "outputs": [
    {
     "name": "stdout",
     "output_type": "stream",
     "text": [
      "Requirement already satisfied: scikit-learn in c:\\users\\user\\anaconda3\\lib\\site-packages (1.5.1)\n",
      "Requirement already satisfied: numpy>=1.19.5 in c:\\users\\user\\anaconda3\\lib\\site-packages (from scikit-learn) (1.26.4)\n",
      "Requirement already satisfied: scipy>=1.6.0 in c:\\users\\user\\anaconda3\\lib\\site-packages (from scikit-learn) (1.13.1)\n",
      "Requirement already satisfied: joblib>=1.2.0 in c:\\users\\user\\anaconda3\\lib\\site-packages (from scikit-learn) (1.4.2)\n",
      "Requirement already satisfied: threadpoolctl>=3.1.0 in c:\\users\\user\\anaconda3\\lib\\site-packages (from scikit-learn) (3.5.0)\n",
      "Note: you may need to restart the kernel to use updated packages.\n"
     ]
    }
   ],
   "source": [
    "pip install scikit-learn"
   ]
  },
  {
   "cell_type": "code",
   "execution_count": 13,
   "metadata": {},
   "outputs": [
    {
     "name": "stdout",
     "output_type": "stream",
     "text": [
      "Collecting tensorflow\n",
      "  Downloading tensorflow-2.18.0-cp312-cp312-win_amd64.whl.metadata (3.3 kB)\n",
      "Collecting tensorflow-intel==2.18.0 (from tensorflow)\n",
      "  Downloading tensorflow_intel-2.18.0-cp312-cp312-win_amd64.whl.metadata (4.9 kB)\n",
      "Collecting absl-py>=1.0.0 (from tensorflow-intel==2.18.0->tensorflow)\n",
      "  Downloading absl_py-2.1.0-py3-none-any.whl.metadata (2.3 kB)\n",
      "Collecting astunparse>=1.6.0 (from tensorflow-intel==2.18.0->tensorflow)\n",
      "  Downloading astunparse-1.6.3-py2.py3-none-any.whl.metadata (4.4 kB)\n",
      "Collecting flatbuffers>=24.3.25 (from tensorflow-intel==2.18.0->tensorflow)\n",
      "  Downloading flatbuffers-25.2.10-py2.py3-none-any.whl.metadata (875 bytes)\n",
      "Collecting gast!=0.5.0,!=0.5.1,!=0.5.2,>=0.2.1 (from tensorflow-intel==2.18.0->tensorflow)\n",
      "  Downloading gast-0.6.0-py3-none-any.whl.metadata (1.3 kB)\n",
      "Collecting google-pasta>=0.1.1 (from tensorflow-intel==2.18.0->tensorflow)\n",
      "  Downloading google_pasta-0.2.0-py3-none-any.whl.metadata (814 bytes)\n",
      "Collecting libclang>=13.0.0 (from tensorflow-intel==2.18.0->tensorflow)\n",
      "  Downloading libclang-18.1.1-py2.py3-none-win_amd64.whl.metadata (5.3 kB)\n",
      "Collecting opt-einsum>=2.3.2 (from tensorflow-intel==2.18.0->tensorflow)\n",
      "  Downloading opt_einsum-3.4.0-py3-none-any.whl.metadata (6.3 kB)\n",
      "Requirement already satisfied: packaging in c:\\users\\user\\anaconda3\\lib\\site-packages (from tensorflow-intel==2.18.0->tensorflow) (24.1)\n",
      "Requirement already satisfied: protobuf!=4.21.0,!=4.21.1,!=4.21.2,!=4.21.3,!=4.21.4,!=4.21.5,<6.0.0dev,>=3.20.3 in c:\\users\\user\\anaconda3\\lib\\site-packages (from tensorflow-intel==2.18.0->tensorflow) (4.25.3)\n",
      "Requirement already satisfied: requests<3,>=2.21.0 in c:\\users\\user\\anaconda3\\lib\\site-packages (from tensorflow-intel==2.18.0->tensorflow) (2.32.3)\n",
      "Requirement already satisfied: setuptools in c:\\users\\user\\anaconda3\\lib\\site-packages (from tensorflow-intel==2.18.0->tensorflow) (75.1.0)\n",
      "Requirement already satisfied: six>=1.12.0 in c:\\users\\user\\anaconda3\\lib\\site-packages (from tensorflow-intel==2.18.0->tensorflow) (1.16.0)\n",
      "Collecting termcolor>=1.1.0 (from tensorflow-intel==2.18.0->tensorflow)\n",
      "  Downloading termcolor-2.5.0-py3-none-any.whl.metadata (6.1 kB)\n",
      "Requirement already satisfied: typing-extensions>=3.6.6 in c:\\users\\user\\anaconda3\\lib\\site-packages (from tensorflow-intel==2.18.0->tensorflow) (4.11.0)\n",
      "Requirement already satisfied: wrapt>=1.11.0 in c:\\users\\user\\anaconda3\\lib\\site-packages (from tensorflow-intel==2.18.0->tensorflow) (1.14.1)\n",
      "Collecting grpcio<2.0,>=1.24.3 (from tensorflow-intel==2.18.0->tensorflow)\n",
      "  Downloading grpcio-1.70.0-cp312-cp312-win_amd64.whl.metadata (4.0 kB)\n",
      "Collecting tensorboard<2.19,>=2.18 (from tensorflow-intel==2.18.0->tensorflow)\n",
      "  Downloading tensorboard-2.18.0-py3-none-any.whl.metadata (1.6 kB)\n",
      "Collecting keras>=3.5.0 (from tensorflow-intel==2.18.0->tensorflow)\n",
      "  Downloading keras-3.8.0-py3-none-any.whl.metadata (5.8 kB)\n",
      "Requirement already satisfied: numpy<2.1.0,>=1.26.0 in c:\\users\\user\\anaconda3\\lib\\site-packages (from tensorflow-intel==2.18.0->tensorflow) (1.26.4)\n",
      "Requirement already satisfied: h5py>=3.11.0 in c:\\users\\user\\anaconda3\\lib\\site-packages (from tensorflow-intel==2.18.0->tensorflow) (3.11.0)\n",
      "Collecting ml-dtypes<0.5.0,>=0.4.0 (from tensorflow-intel==2.18.0->tensorflow)\n",
      "  Downloading ml_dtypes-0.4.1-cp312-cp312-win_amd64.whl.metadata (20 kB)\n",
      "Requirement already satisfied: wheel<1.0,>=0.23.0 in c:\\users\\user\\anaconda3\\lib\\site-packages (from astunparse>=1.6.0->tensorflow-intel==2.18.0->tensorflow) (0.44.0)\n",
      "Requirement already satisfied: rich in c:\\users\\user\\anaconda3\\lib\\site-packages (from keras>=3.5.0->tensorflow-intel==2.18.0->tensorflow) (13.7.1)\n",
      "Collecting namex (from keras>=3.5.0->tensorflow-intel==2.18.0->tensorflow)\n",
      "  Downloading namex-0.0.8-py3-none-any.whl.metadata (246 bytes)\n",
      "Collecting optree (from keras>=3.5.0->tensorflow-intel==2.18.0->tensorflow)\n",
      "  Downloading optree-0.14.0-cp312-cp312-win_amd64.whl.metadata (48 kB)\n",
      "Requirement already satisfied: charset-normalizer<4,>=2 in c:\\users\\user\\anaconda3\\lib\\site-packages (from requests<3,>=2.21.0->tensorflow-intel==2.18.0->tensorflow) (3.3.2)\n",
      "Requirement already satisfied: idna<4,>=2.5 in c:\\users\\user\\anaconda3\\lib\\site-packages (from requests<3,>=2.21.0->tensorflow-intel==2.18.0->tensorflow) (3.7)\n",
      "Requirement already satisfied: urllib3<3,>=1.21.1 in c:\\users\\user\\anaconda3\\lib\\site-packages (from requests<3,>=2.21.0->tensorflow-intel==2.18.0->tensorflow) (2.2.3)\n",
      "Requirement already satisfied: certifi>=2017.4.17 in c:\\users\\user\\anaconda3\\lib\\site-packages (from requests<3,>=2.21.0->tensorflow-intel==2.18.0->tensorflow) (2024.12.14)\n",
      "Requirement already satisfied: markdown>=2.6.8 in c:\\users\\user\\anaconda3\\lib\\site-packages (from tensorboard<2.19,>=2.18->tensorflow-intel==2.18.0->tensorflow) (3.4.1)\n",
      "Collecting tensorboard-data-server<0.8.0,>=0.7.0 (from tensorboard<2.19,>=2.18->tensorflow-intel==2.18.0->tensorflow)\n",
      "  Downloading tensorboard_data_server-0.7.2-py3-none-any.whl.metadata (1.1 kB)\n",
      "Requirement already satisfied: werkzeug>=1.0.1 in c:\\users\\user\\anaconda3\\lib\\site-packages (from tensorboard<2.19,>=2.18->tensorflow-intel==2.18.0->tensorflow) (3.0.3)\n",
      "Requirement already satisfied: MarkupSafe>=2.1.1 in c:\\users\\user\\anaconda3\\lib\\site-packages (from werkzeug>=1.0.1->tensorboard<2.19,>=2.18->tensorflow-intel==2.18.0->tensorflow) (2.1.3)\n",
      "Requirement already satisfied: markdown-it-py>=2.2.0 in c:\\users\\user\\anaconda3\\lib\\site-packages (from rich->keras>=3.5.0->tensorflow-intel==2.18.0->tensorflow) (2.2.0)\n",
      "Requirement already satisfied: pygments<3.0.0,>=2.13.0 in c:\\users\\user\\anaconda3\\lib\\site-packages (from rich->keras>=3.5.0->tensorflow-intel==2.18.0->tensorflow) (2.15.1)\n",
      "Requirement already satisfied: mdurl~=0.1 in c:\\users\\user\\anaconda3\\lib\\site-packages (from markdown-it-py>=2.2.0->rich->keras>=3.5.0->tensorflow-intel==2.18.0->tensorflow) (0.1.0)\n",
      "Downloading tensorflow-2.18.0-cp312-cp312-win_amd64.whl (7.5 kB)\n",
      "Downloading tensorflow_intel-2.18.0-cp312-cp312-win_amd64.whl (390.3 MB)\n",
      "   ---------------------------------------- 0.0/390.3 MB ? eta -:--:--\n",
      "   ---------------------------------------- 0.3/390.3 MB ? eta -:--:--\n",
      "   ---------------------------------------- 1.8/390.3 MB 7.7 MB/s eta 0:00:51\n",
      "    --------------------------------------- 6.0/390.3 MB 13.7 MB/s eta 0:00:29\n",
      "    --------------------------------------- 7.6/390.3 MB 12.1 MB/s eta 0:00:32\n",
      "    --------------------------------------- 9.4/390.3 MB 11.5 MB/s eta 0:00:34\n",
      "   - -------------------------------------- 11.0/390.3 MB 10.4 MB/s eta 0:00:37\n",
      "   - -------------------------------------- 12.3/390.3 MB 9.9 MB/s eta 0:00:39\n",
      "   - -------------------------------------- 13.6/390.3 MB 9.0 MB/s eta 0:00:42\n",
      "   - -------------------------------------- 15.5/390.3 MB 8.9 MB/s eta 0:00:42\n",
      "   - -------------------------------------- 17.6/390.3 MB 9.1 MB/s eta 0:00:42\n",
      "   - -------------------------------------- 18.4/390.3 MB 8.7 MB/s eta 0:00:43\n",
      "   - -------------------------------------- 19.1/390.3 MB 8.3 MB/s eta 0:00:45\n",
      "   -- ------------------------------------- 19.7/390.3 MB 8.0 MB/s eta 0:00:47\n",
      "   -- ------------------------------------- 20.2/390.3 MB 7.4 MB/s eta 0:00:50\n",
      "   -- ------------------------------------- 22.8/390.3 MB 7.6 MB/s eta 0:00:49\n",
      "   -- ------------------------------------- 28.0/390.3 MB 8.7 MB/s eta 0:00:42\n",
      "   --- ------------------------------------ 32.8/390.3 MB 9.5 MB/s eta 0:00:38\n",
      "   --- ------------------------------------ 37.2/390.3 MB 10.2 MB/s eta 0:00:35\n",
      "   ---- ----------------------------------- 41.9/390.3 MB 10.9 MB/s eta 0:00:32\n",
      "   ---- ----------------------------------- 46.7/390.3 MB 11.5 MB/s eta 0:00:30\n",
      "   ----- ---------------------------------- 50.9/390.3 MB 11.9 MB/s eta 0:00:29\n",
      "   ----- ---------------------------------- 55.8/390.3 MB 12.4 MB/s eta 0:00:27\n",
      "   ------ --------------------------------- 61.1/390.3 MB 13.0 MB/s eta 0:00:26\n",
      "   ------ --------------------------------- 64.7/390.3 MB 13.2 MB/s eta 0:00:25\n",
      "   ------- -------------------------------- 69.2/390.3 MB 13.5 MB/s eta 0:00:24\n",
      "   ------- -------------------------------- 73.7/390.3 MB 13.9 MB/s eta 0:00:23\n",
      "   -------- ------------------------------- 78.6/390.3 MB 14.3 MB/s eta 0:00:22\n",
      "   -------- ------------------------------- 83.6/390.3 MB 14.6 MB/s eta 0:00:21\n",
      "   --------- ------------------------------ 88.6/390.3 MB 15.0 MB/s eta 0:00:21\n",
      "   --------- ------------------------------ 93.8/390.3 MB 15.3 MB/s eta 0:00:20\n",
      "   ---------- ----------------------------- 99.1/390.3 MB 15.6 MB/s eta 0:00:19\n",
      "   ---------- ---------------------------- 104.1/390.3 MB 15.9 MB/s eta 0:00:19\n",
      "   ---------- ---------------------------- 109.3/390.3 MB 16.1 MB/s eta 0:00:18\n",
      "   ----------- --------------------------- 114.0/390.3 MB 16.3 MB/s eta 0:00:17\n",
      "   ----------- --------------------------- 119.0/390.3 MB 16.6 MB/s eta 0:00:17\n",
      "   ------------ -------------------------- 124.3/390.3 MB 16.8 MB/s eta 0:00:16\n",
      "   ------------ -------------------------- 129.0/390.3 MB 16.9 MB/s eta 0:00:16\n",
      "   ------------- ------------------------- 134.0/390.3 MB 17.1 MB/s eta 0:00:15\n",
      "   ------------- ------------------------- 139.2/390.3 MB 17.3 MB/s eta 0:00:15\n",
      "   -------------- ------------------------ 144.2/390.3 MB 17.5 MB/s eta 0:00:15\n",
      "   -------------- ------------------------ 148.6/390.3 MB 17.6 MB/s eta 0:00:14\n",
      "   --------------- ----------------------- 153.1/390.3 MB 17.7 MB/s eta 0:00:14\n",
      "   --------------- ----------------------- 157.8/390.3 MB 17.8 MB/s eta 0:00:14\n",
      "   ---------------- ---------------------- 162.8/390.3 MB 17.9 MB/s eta 0:00:13\n",
      "   ---------------- ---------------------- 166.2/390.3 MB 17.9 MB/s eta 0:00:13\n",
      "   ----------------- --------------------- 170.7/390.3 MB 18.0 MB/s eta 0:00:13\n",
      "   ----------------- --------------------- 175.1/390.3 MB 18.0 MB/s eta 0:00:12\n",
      "   ------------------ -------------------- 180.4/390.3 MB 18.2 MB/s eta 0:00:12\n",
      "   ------------------ -------------------- 184.8/390.3 MB 18.2 MB/s eta 0:00:12\n",
      "   ------------------ -------------------- 189.5/390.3 MB 18.3 MB/s eta 0:00:11\n",
      "   ------------------- ------------------- 194.0/390.3 MB 18.4 MB/s eta 0:00:11\n",
      "   ------------------- ------------------- 199.2/390.3 MB 18.5 MB/s eta 0:00:11\n",
      "   -------------------- ------------------ 203.4/390.3 MB 18.6 MB/s eta 0:00:11\n",
      "   -------------------- ------------------ 208.1/390.3 MB 18.6 MB/s eta 0:00:10\n",
      "   --------------------- ----------------- 211.8/390.3 MB 18.6 MB/s eta 0:00:10\n",
      "   --------------------- ----------------- 216.5/390.3 MB 18.7 MB/s eta 0:00:10\n",
      "   ---------------------- ---------------- 220.7/390.3 MB 18.7 MB/s eta 0:00:10\n",
      "   ---------------------- ---------------- 225.4/390.3 MB 18.7 MB/s eta 0:00:09\n",
      "   ----------------------- --------------- 230.7/390.3 MB 18.8 MB/s eta 0:00:09\n",
      "   ----------------------- --------------- 235.4/390.3 MB 18.9 MB/s eta 0:00:09\n",
      "   ----------------------- --------------- 238.8/390.3 MB 18.8 MB/s eta 0:00:09\n",
      "   ------------------------ -------------- 243.8/390.3 MB 18.9 MB/s eta 0:00:08\n",
      "   ------------------------ -------------- 246.2/390.3 MB 18.8 MB/s eta 0:00:08\n",
      "   ------------------------- ------------- 250.3/390.3 MB 18.8 MB/s eta 0:00:08\n",
      "   ------------------------- ------------- 255.6/390.3 MB 18.9 MB/s eta 0:00:08\n",
      "   ------------------------- ------------- 259.5/390.3 MB 18.9 MB/s eta 0:00:07\n",
      "   -------------------------- ------------ 264.0/390.3 MB 19.2 MB/s eta 0:00:07\n",
      "   -------------------------- ------------ 268.7/390.3 MB 19.4 MB/s eta 0:00:07\n",
      "   --------------------------- ----------- 273.7/390.3 MB 19.9 MB/s eta 0:00:06\n",
      "   --------------------------- ----------- 278.4/390.3 MB 20.5 MB/s eta 0:00:06\n",
      "   ---------------------------- ---------- 283.4/390.3 MB 22.2 MB/s eta 0:00:05\n",
      "   ---------------------------- ---------- 288.6/390.3 MB 22.3 MB/s eta 0:00:05\n",
      "   ----------------------------- --------- 293.3/390.3 MB 22.3 MB/s eta 0:00:05\n",
      "   ----------------------------- --------- 298.6/390.3 MB 22.2 MB/s eta 0:00:05\n",
      "   ------------------------------ -------- 303.3/390.3 MB 22.3 MB/s eta 0:00:04\n",
      "   ------------------------------ -------- 308.3/390.3 MB 22.3 MB/s eta 0:00:04\n",
      "   ------------------------------- ------- 313.0/390.3 MB 22.3 MB/s eta 0:00:04\n",
      "   ------------------------------- ------- 317.7/390.3 MB 22.3 MB/s eta 0:00:04\n",
      "   -------------------------------- ------ 322.7/390.3 MB 22.3 MB/s eta 0:00:04\n",
      "   -------------------------------- ------ 327.4/390.3 MB 22.4 MB/s eta 0:00:03\n",
      "   --------------------------------- ----- 332.7/390.3 MB 22.5 MB/s eta 0:00:03\n",
      "   --------------------------------- ----- 337.4/390.3 MB 22.5 MB/s eta 0:00:03\n",
      "   ---------------------------------- ---- 342.1/390.3 MB 22.5 MB/s eta 0:00:03\n",
      "   ---------------------------------- ---- 347.1/390.3 MB 22.5 MB/s eta 0:00:02\n",
      "   ----------------------------------- --- 352.3/390.3 MB 22.5 MB/s eta 0:00:02\n",
      "   ----------------------------------- --- 357.3/390.3 MB 22.4 MB/s eta 0:00:02\n",
      "   ------------------------------------ -- 362.0/390.3 MB 22.4 MB/s eta 0:00:02\n",
      "   ------------------------------------ -- 367.3/390.3 MB 22.4 MB/s eta 0:00:02\n",
      "   ------------------------------------- - 372.2/390.3 MB 22.4 MB/s eta 0:00:01\n",
      "   ------------------------------------- - 377.2/390.3 MB 22.4 MB/s eta 0:00:01\n",
      "   --------------------------------------  382.5/390.3 MB 22.4 MB/s eta 0:00:01\n",
      "   --------------------------------------  387.7/390.3 MB 22.4 MB/s eta 0:00:01\n",
      "   --------------------------------------  390.1/390.3 MB 22.5 MB/s eta 0:00:01\n",
      "   --------------------------------------  390.1/390.3 MB 22.5 MB/s eta 0:00:01\n",
      "   --------------------------------------- 390.3/390.3 MB 21.6 MB/s eta 0:00:00\n",
      "Downloading absl_py-2.1.0-py3-none-any.whl (133 kB)\n",
      "Downloading astunparse-1.6.3-py2.py3-none-any.whl (12 kB)\n",
      "Downloading flatbuffers-25.2.10-py2.py3-none-any.whl (30 kB)\n",
      "Downloading gast-0.6.0-py3-none-any.whl (21 kB)\n",
      "Downloading google_pasta-0.2.0-py3-none-any.whl (57 kB)\n",
      "Downloading grpcio-1.70.0-cp312-cp312-win_amd64.whl (4.3 MB)\n",
      "   ---------------------------------------- 0.0/4.3 MB ? eta -:--:--\n",
      "   ---------------------------------------- 4.3/4.3 MB 19.9 MB/s eta 0:00:00\n",
      "Downloading keras-3.8.0-py3-none-any.whl (1.3 MB)\n",
      "   ---------------------------------------- 0.0/1.3 MB ? eta -:--:--\n",
      "   ---------------------------------------- 1.3/1.3 MB 16.8 MB/s eta 0:00:00\n",
      "Downloading libclang-18.1.1-py2.py3-none-win_amd64.whl (26.4 MB)\n",
      "   ---------------------------------------- 0.0/26.4 MB ? eta -:--:--\n",
      "   ------ --------------------------------- 4.5/26.4 MB 20.7 MB/s eta 0:00:02\n",
      "   -------------- ------------------------- 9.7/26.4 MB 22.4 MB/s eta 0:00:01\n",
      "   -------------------- ------------------- 13.4/26.4 MB 21.0 MB/s eta 0:00:01\n",
      "   -------------------------- ------------- 17.6/26.4 MB 20.9 MB/s eta 0:00:01\n",
      "   --------------------------------- ------ 22.3/26.4 MB 21.4 MB/s eta 0:00:01\n",
      "   ---------------------------------------- 26.4/26.4 MB 20.4 MB/s eta 0:00:00\n",
      "Downloading ml_dtypes-0.4.1-cp312-cp312-win_amd64.whl (127 kB)\n",
      "Downloading opt_einsum-3.4.0-py3-none-any.whl (71 kB)\n",
      "Downloading tensorboard-2.18.0-py3-none-any.whl (5.5 MB)\n",
      "   ---------------------------------------- 0.0/5.5 MB ? eta -:--:--\n",
      "   -------------------------------------- - 5.2/5.5 MB 24.5 MB/s eta 0:00:01\n",
      "   ---------------------------------------- 5.5/5.5 MB 22.4 MB/s eta 0:00:00\n",
      "Downloading termcolor-2.5.0-py3-none-any.whl (7.8 kB)\n",
      "Downloading tensorboard_data_server-0.7.2-py3-none-any.whl (2.4 kB)\n",
      "Downloading namex-0.0.8-py3-none-any.whl (5.8 kB)\n",
      "Downloading optree-0.14.0-cp312-cp312-win_amd64.whl (299 kB)\n",
      "Installing collected packages: namex, libclang, flatbuffers, termcolor, tensorboard-data-server, optree, opt-einsum, ml-dtypes, grpcio, google-pasta, gast, astunparse, absl-py, tensorboard, keras, tensorflow-intel, tensorflow\n",
      "Successfully installed absl-py-2.1.0 astunparse-1.6.3 flatbuffers-25.2.10 gast-0.6.0 google-pasta-0.2.0 grpcio-1.70.0 keras-3.8.0 libclang-18.1.1 ml-dtypes-0.4.1 namex-0.0.8 opt-einsum-3.4.0 optree-0.14.0 tensorboard-2.18.0 tensorboard-data-server-0.7.2 tensorflow-2.18.0 tensorflow-intel-2.18.0 termcolor-2.5.0\n",
      "Note: you may need to restart the kernel to use updated packages.\n"
     ]
    }
   ],
   "source": [
    "pip install tensorflow"
   ]
  },
  {
   "cell_type": "code",
   "execution_count": 7,
   "metadata": {},
   "outputs": [
    {
     "name": "stdout",
     "output_type": "stream",
     "text": [
      "Collecting sklearn\n",
      "  Downloading sklearn-0.0.post12.tar.gz (2.6 kB)\n",
      "  Preparing metadata (setup.py): started\n",
      "  Preparing metadata (setup.py): finished with status 'error'\n",
      "Note: you may need to restart the kernel to use updated packages.\n"
     ]
    },
    {
     "name": "stderr",
     "output_type": "stream",
     "text": [
      "  error: subprocess-exited-with-error\n",
      "  \n",
      "  × python setup.py egg_info did not run successfully.\n",
      "  │ exit code: 1\n",
      "  ╰─> [15 lines of output]\n",
      "      The 'sklearn' PyPI package is deprecated, use 'scikit-learn'\n",
      "      rather than 'sklearn' for pip commands.\n",
      "      \n",
      "      Here is how to fix this error in the main use cases:\n",
      "      - use 'pip install scikit-learn' rather than 'pip install sklearn'\n",
      "      - replace 'sklearn' by 'scikit-learn' in your pip requirements files\n",
      "        (requirements.txt, setup.py, setup.cfg, Pipfile, etc ...)\n",
      "      - if the 'sklearn' package is used by one of your dependencies,\n",
      "        it would be great if you take some time to track which package uses\n",
      "        'sklearn' instead of 'scikit-learn' and report it to their issue tracker\n",
      "      - as a last resort, set the environment variable\n",
      "        SKLEARN_ALLOW_DEPRECATED_SKLEARN_PACKAGE_INSTALL=True to avoid this error\n",
      "      \n",
      "      More information is available at\n",
      "      https://github.com/scikit-learn/sklearn-pypi-package\n",
      "      [end of output]\n",
      "  \n",
      "  note: This error originates from a subprocess, and is likely not a problem with pip.\n",
      "error: metadata-generation-failed\n",
      "\n",
      "× Encountered error while generating package metadata.\n",
      "╰─> See above for output.\n",
      "\n",
      "note: This is an issue with the package mentioned above, not pip.\n",
      "hint: See above for details.\n"
     ]
    }
   ],
   "source": [
    "pip install sklearn"
   ]
  },
  {
   "cell_type": "code",
   "execution_count": 8,
   "metadata": {},
   "outputs": [],
   "source": [
    "import numpy as np\n",
    "import pandas as pd\n",
    "import matplotlib.pyplot as plt\n",
    "import seaborn as sns\n",
    "\n",
    "from sklearn.model_selection import train_test_split\n",
    "from sklearn.linear_model import LogisticRegression\n",
    "from sklearn.metrics import accuracy_score"
   ]
  },
  {
   "cell_type": "code",
   "execution_count": 14,
   "metadata": {},
   "outputs": [],
   "source": [
    "import tensorflow as tf\n",
    "from tensorflow.keras.models import Sequential\n",
    "from tensorflow.keras.layers import LSTM, Dense, Dropout\n",
    "from sklearn.preprocessing import MinMaxScaler\n"
   ]
  },
  {
   "cell_type": "code",
   "execution_count": 9,
   "metadata": {},
   "outputs": [
    {
     "name": "stdout",
     "output_type": "stream",
     "text": [
      "c:\\Users\\user\\Desktop\\CodeAlpha_STOCK_PREDICTION\n"
     ]
    }
   ],
   "source": [
    "import os\n",
    "print(os.getcwd())"
   ]
  },
  {
   "cell_type": "code",
   "execution_count": null,
   "metadata": {},
   "outputs": [],
   "source": []
  },
  {
   "cell_type": "code",
   "execution_count": null,
   "metadata": {},
   "outputs": [],
   "source": []
  }
 ],
 "metadata": {
  "kernelspec": {
   "display_name": "base",
   "language": "python",
   "name": "python3"
  },
  "language_info": {
   "codemirror_mode": {
    "name": "ipython",
    "version": 3
   },
   "file_extension": ".py",
   "mimetype": "text/x-python",
   "name": "python",
   "nbconvert_exporter": "python",
   "pygments_lexer": "ipython3",
   "version": "3.12.7"
  }
 },
 "nbformat": 4,
 "nbformat_minor": 2
}
